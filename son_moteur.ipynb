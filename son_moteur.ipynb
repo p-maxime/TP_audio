{
 "cells": [
  {
   "cell_type": "code",
   "execution_count": 5,
   "id": "802ccec6",
   "metadata": {},
   "outputs": [
    {
     "data": {
      "application/vnd.jupyter.widget-view+json": {
       "model_id": "71ce2abf1e0446f0b12b9c10d5140573",
       "version_major": 2,
       "version_minor": 0
      },
      "text/plain": [
       "interactive(children=(FloatSlider(value=10.0, description='Fréquence (Hz):', max=1000.0, step=10.0), FloatSlid…"
      ]
     },
     "metadata": {},
     "output_type": "display_data"
    }
   ],
   "source": [
    "import numpy as np\n",
    "from IPython.display import Audio, display\n",
    "import ipywidgets as widgets\n",
    "\n",
    "duration = 20  # durée en secondes\n",
    "fs = 44100  # taux d'échantillonnage en Hz\n",
    "f = 10  # fréquence en Hz\n",
    "amplitude = 0.5  # amplitude du signal\n",
    "\n",
    "# création des widgets pour la fréquence et la différence de phase\n",
    "freq_slider = widgets.FloatSlider(value=f, min=0, max=1000, step=10, description='Fréquence (Hz):')\n",
    "phase_slider = widgets.FloatSlider(value=0, min=0, max = np.pi, step=np.pi/16, description='Diff. de phase:')\n",
    "\n",
    "# fonction de mise à jour du son en fonction des valeurs des widgets\n",
    "def update_sound(freq, phase):\n",
    "    # création des échantillons\n",
    "    samples = np.linspace(0, duration, int(fs * duration), endpoint=False)\n",
    "    left_channel = amplitude * np.sin(2 * np.pi * freq * samples)\n",
    "    right_channel = 0.01*amplitude * np.sin(2 * np.pi  * freq * samples + phase)\n",
    "\n",
    "    # création du son stéréo\n",
    "    stereo_signal = np.vstack((left_channel, right_channel))\n",
    "\n",
    "    # lecture du son dans le navigateur web avec la bibliothèque IPython\n",
    "    display(Audio(stereo_signal, rate=fs, autoplay=True))\n",
    "\n",
    "# mise à jour du son lors du changement de valeur des widgets\n",
    "widgets.interactive(update_sound, freq=freq_slider, phase=phase_slider)\n"
   ]
  },
  {
   "cell_type": "code",
   "execution_count": null,
   "id": "c52d2921",
   "metadata": {},
   "outputs": [],
   "source": []
  },
  {
   "cell_type": "code",
   "execution_count": null,
   "id": "e53aea1f",
   "metadata": {},
   "outputs": [],
   "source": []
  }
 ],
 "metadata": {
  "kernelspec": {
   "display_name": "Python 3 (ipykernel)",
   "language": "python",
   "name": "python3"
  },
  "language_info": {
   "codemirror_mode": {
    "name": "ipython",
    "version": 3
   },
   "file_extension": ".py",
   "mimetype": "text/x-python",
   "name": "python",
   "nbconvert_exporter": "python",
   "pygments_lexer": "ipython3",
   "version": "3.10.9"
  }
 },
 "nbformat": 4,
 "nbformat_minor": 5
}
